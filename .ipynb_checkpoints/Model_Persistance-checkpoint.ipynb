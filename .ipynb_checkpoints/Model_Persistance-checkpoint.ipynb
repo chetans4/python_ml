{
 "cells": [
  {
   "cell_type": "code",
   "execution_count": 11,
   "metadata": {},
   "outputs": [
    {
     "data": {
      "text/plain": [
       "array(['HipHop'], dtype=object)"
      ]
     },
     "execution_count": 11,
     "metadata": {},
     "output_type": "execute_result"
    }
   ],
   "source": [
    "import pandas as pd\n",
    "from sklearn.tree import DecisionTreeClassifier\n",
    "from sklearn.externals import joblib # importing job lib to save the trained model\n",
    "\n",
    "musicdata = pd.read_csv(\"music.csv\");\n",
    "\n",
    "# print musicdata\n",
    "\n",
    "## Stroring the model\n",
    "# input_data = musicdata.drop(columns=['genre']);\n",
    "# output_data = musicdata['genre']\n",
    "\n",
    "# model = DecisionTreeClassifier()\n",
    "# model.fit(input_data, output_data)\n",
    "# # print model\n",
    "# joblib.dump(model, 'music-recommender.joblib');\n",
    "############\n",
    "\n",
    "## Reading the model\n",
    "\n",
    "model = joblib.load('music-recommender.joblib');\n",
    "\n",
    "predictions = model.predict([[21,1]]);\n",
    "\n",
    "predictions # print predictions\n"
   ]
  }
 ],
 "metadata": {
  "kernelspec": {
   "display_name": "Python 2",
   "language": "python",
   "name": "python2"
  },
  "language_info": {
   "codemirror_mode": {
    "name": "ipython",
    "version": 2
   },
   "file_extension": ".py",
   "mimetype": "text/x-python",
   "name": "python",
   "nbconvert_exporter": "python",
   "pygments_lexer": "ipython2",
   "version": "2.7.16"
  }
 },
 "nbformat": 4,
 "nbformat_minor": 2
}
