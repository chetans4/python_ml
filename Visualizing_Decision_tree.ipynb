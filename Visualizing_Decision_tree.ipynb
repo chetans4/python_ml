{
 "cells": [
  {
   "cell_type": "code",
   "execution_count": 5,
   "metadata": {},
   "outputs": [],
   "source": [
    "import pandas as pd\n",
    "from sklearn.tree import DecisionTreeClassifier\n",
    "from sklearn import tree\n",
    "musicdata = pd.read_csv('music.csv')\n",
    "# print musicdata\n",
    "\n",
    "inputdata = musicdata.drop(columns=['genre']);\n",
    "outputdata = musicdata['genre']\n",
    "\n",
    "model = DecisionTreeClassifier()\n",
    "model.fit(inputdata, outputdata);\n",
    "\n",
    "# model\n",
    "\n",
    "tree.export_graphviz(model, out_file='music-recommender.dot',feature_names = ['age','gender'], \n",
    "                     class_names = sorted(outputdata.unique()), label = 'all', rounded = True, filled = True)\n",
    "\n"
   ]
  }
 ],
 "metadata": {
  "kernelspec": {
   "display_name": "Python 2",
   "language": "python",
   "name": "python2"
  },
  "language_info": {
   "codemirror_mode": {
    "name": "ipython",
    "version": 2
   },
   "file_extension": ".py",
   "mimetype": "text/x-python",
   "name": "python",
   "nbconvert_exporter": "python",
   "pygments_lexer": "ipython2",
   "version": "2.7.16"
  }
 },
 "nbformat": 4,
 "nbformat_minor": 2
}
