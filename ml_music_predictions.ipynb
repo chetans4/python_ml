{
 "cells": [
  {
   "cell_type": "code",
   "execution_count": 17,
   "metadata": {},
   "outputs": [
    {
     "name": "stdout",
     "output_type": "stream",
     "text": [
      "    age  gender      genre\n",
      "0    20       1     HipHop\n",
      "1    23       1     HipHop\n",
      "2    25       1     HipHop\n",
      "3    26       1       jazz\n",
      "4    29       1       Jazz\n",
      "5    30       1       Jazz\n",
      "6    31       1  Classical\n",
      "7    33       1  Classical\n",
      "8    37       1  Classical\n",
      "9    20       0      Dance\n",
      "10   23       0      Dance\n",
      "11   25       0      Dance\n",
      "12   26       0   Acoustic\n",
      "13   27       0   Acoustic\n",
      "14   30       0   Acoustic\n",
      "15   31       0  Classical\n",
      "16   33       0  Classical\n",
      "17   37       0  Classical\n"
     ]
    }
   ],
   "source": [
    "#step 1: importing the data\n",
    "import pandas as pd\n",
    "from sklearn.tree import DecisionTreeClassifier\n",
    "from sklearn.model_selection import train_test_split\n",
    "from sklearn.metrics import accuracy_score\n",
    "\n",
    "music_data = pd.read_csv('music.csv')\n",
    "print music_data"
   ]
  },
  {
   "cell_type": "code",
   "execution_count": 18,
   "metadata": {},
   "outputs": [
    {
     "name": "stdout",
     "output_type": "stream",
     "text": [
      "0        HipHop\n",
      "1        HipHop\n",
      "2        HipHop\n",
      "3          jazz\n",
      "4          Jazz\n",
      "5          Jazz\n",
      "6     Classical\n",
      "7     Classical\n",
      "8     Classical\n",
      "9         Dance\n",
      "10        Dance\n",
      "11        Dance\n",
      "12     Acoustic\n",
      "13     Acoustic\n",
      "14     Acoustic\n",
      "15    Classical\n",
      "16    Classical\n",
      "17    Classical\n",
      "Name: genre, dtype: object\n"
     ]
    }
   ],
   "source": [
    "# setp 2: Cleaning the data: removing duplicates, null values and so on, which is not requrired in our data.\n",
    "# step 3: Split data in trining and testing set:\n",
    "# step 4: Creating the model: We need to split the data set as input and output set, \n",
    "# first two columns are as input set and last one as output set\n",
    "input_set = music_data.drop(columns=[\"genre\"]) # This will not modify the origional dataset it will create a new without genre column\n",
    "# print input_set\n",
    "output_set = music_data['genre']\n",
    "print output_set"
   ]
  },
  {
   "cell_type": "code",
   "execution_count": 19,
   "metadata": {},
   "outputs": [
    {
     "name": "stdout",
     "output_type": "stream",
     "text": [
      "['HipHop' 'Dance' 'jazz' 'Acoustic']\n"
     ]
    }
   ],
   "source": [
    "# Step 4,5,6: create, train the model and make predictions\n",
    "model = DecisionTreeClassifier()\n",
    "model.fit(input_set, output_set)\n",
    "predictions = model.predict([ [21,1], [22,0], [27,1], [28,0] ])\n",
    "print predictions"
   ]
  },
  {
   "cell_type": "code",
   "execution_count": 87,
   "metadata": {},
   "outputs": [
    {
     "name": "stdout",
     "output_type": "stream",
     "text": [
      "0.75\n"
     ]
    }
   ],
   "source": [
    "# Step 7: Evaluate: measure the accuracy of predictions\n",
    "# Split the data for training and testing, 70 to 80 % for training and 20 to 30 % for testing\n",
    "input_train, input_test, output_train, output_test = train_test_split(input_set, output_set, test_size = 0.2)\n",
    "model.fit(input_train, output_train) # We will pass only the taining data sets\n",
    "predictions = model.predict(input_test) # We will pass the testing input data set instead of dummy values\n",
    "\n",
    "score = accuracy_score(output_test, predictions)\n",
    "print score"
   ]
  },
  {
   "cell_type": "code",
   "execution_count": null,
   "metadata": {},
   "outputs": [],
   "source": []
  }
 ],
 "metadata": {
  "kernelspec": {
   "display_name": "Python 2",
   "language": "python",
   "name": "python2"
  },
  "language_info": {
   "codemirror_mode": {
    "name": "ipython",
    "version": 2
   },
   "file_extension": ".py",
   "mimetype": "text/x-python",
   "name": "python",
   "nbconvert_exporter": "python",
   "pygments_lexer": "ipython2",
   "version": "2.7.16"
  }
 },
 "nbformat": 4,
 "nbformat_minor": 2
}
